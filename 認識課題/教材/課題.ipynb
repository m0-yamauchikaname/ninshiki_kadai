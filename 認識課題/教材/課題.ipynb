{
 "cells": [
  {
   "cell_type": "markdown",
   "id": "15b325c6",
   "metadata": {},
   "source": [
    "\n",
    "# Pythonによる画像処理 - 課題\n",
    "\n",
    "このノートブックでは、Pythonを使った画像処理の基礎を確かめる課題が含まれています。各セクションには具体的な指示が記載されていますので、必要なコードを記述して課題を解いてください。\n",
    "\n",
    "以下の課題を進める際に役立つライブラリ：\n",
    "\n",
    "- `OpenCV`\n",
    "- `NumPy`\n",
    "- `Matplotlib`\n",
    "\n",
    "課題を解くために、事前にこれらのライブラリをインストールしてください。\n"
   ]
  },
  {
   "cell_type": "code",
   "execution_count": null,
   "id": "073b25dd",
   "metadata": {},
   "outputs": [],
   "source": [
    "import cv2\n",
    "import numpy as np\n",
    "import matplotlib.pyplot as plt\n",
    "\n",
    "image_path = \"Lenna.jpg\""
   ]
  },
  {
   "cell_type": "markdown",
   "id": "c413418f",
   "metadata": {},
   "source": [
    "\n",
    "## 課題 1: 画像の読み込みと表示\n",
    "\n",
    "以下の指示に従ってコードを書いてください：\n",
    "\n",
    "1. ローカルに保存されている任意の画像ファイルを読み込んでください。\n",
    "2. 画像をカラー（RGB形式）とグレースケール形式の両方で表示してください。\n",
    "3. `Matplotlib` を使ってタイトルを付け、軸を非表示にしてください。\n"
   ]
  },
  {
   "cell_type": "markdown",
   "id": "7890ffa4",
   "metadata": {},
   "source": [
    "\n",
    "## 課題 2: 二値化処理\n",
    "\n",
    "1. グレースケール画像を使って、以下の二値化処理を行ってください。\n",
    "   - 固定閾値（128）を使った二値化\n",
    "   - OpenCVの `THRESH_BINARY` を使った二値化\n",
    "2. 二値化された画像をそれぞれ表示し、違いを比較してください。\n"
   ]
  },
  {
   "cell_type": "markdown",
   "id": "970d608f",
   "metadata": {},
   "source": [
    "\n",
    "## 課題 3: 画像の拡大縮小\n",
    "\n",
    "1. 任意の画像を読み込んでください。\n",
    "2. 以下の条件で画像を拡大または縮小してください：\n",
    "   - 幅と高さを2倍に拡大\n",
    "   - 幅と高さを半分に縮小\n",
    "3. 結果の画像を表示し、元の画像と比較してください。\n"
   ]
  },
  {
   "cell_type": "markdown",
   "id": "eb1f9d45",
   "metadata": {},
   "source": [
    "\n",
    "## 課題 4: エッジ検出\n",
    "\n",
    "1. 任意の画像をグレースケールに変換してください。\n",
    "2. OpenCVの `Canny` 関数を使ってエッジ検出を行ってください。\n",
    "3. エッジ検出の結果を表示し、元の画像と比較してください。\n"
   ]
  },
  {
   "cell_type": "markdown",
   "id": "5fef39f2",
   "metadata": {},
   "source": [
    "\n",
    "## 課題 5: 周波数領域でのフィルタリング\n",
    "\n",
    "1. 任意の画像をフーリエ変換（DFT）し、そのスペクトル画像を表示してください。\n",
    "2. 低周波フィルタを適用して画像を平滑化してください。\n",
    "3. 結果の画像を表示し、元の画像と比較してください。\n"
   ]
  },
  {
   "cell_type": "markdown",
   "id": "20405854",
   "metadata": {},
   "source": [
    "\n",
    "## 課題 6: カスタムフィルタの作成\n",
    "\n",
    "1. 3x3のカーネルを使って、独自の空間フィルタを設計してください。\n",
    "2. そのフィルタを任意の画像に適用し、結果を表示してください。\n",
    "3. 結果の画像が元の画像にどのような影響を与えたか考察してください。\n"
   ]
  }
 ],
 "metadata": {
  "kernelspec": {
   "display_name": "Python 3",
   "language": "python",
   "name": "python3"
  },
  "language_info": {
   "codemirror_mode": {
    "name": "ipython",
    "version": 3
   },
   "file_extension": ".py",
   "mimetype": "text/x-python",
   "name": "python",
   "nbconvert_exporter": "python",
   "pygments_lexer": "ipython3",
   "version": "3.9.13"
  }
 },
 "nbformat": 4,
 "nbformat_minor": 5
}
